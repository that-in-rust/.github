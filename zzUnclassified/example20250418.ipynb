{
 "cells": [
  {
   "cell_type": "code",
   "execution_count": 4,
   "metadata": {
    "vscode": {
     "languageId": "rust"
    }
   },
   "outputs": [
    {
     "name": "stdout",
     "output_type": "stream",
     "text": [
      "Sum: 12\n"
     ]
    },
    {
     "name": "stdout",
     "output_type": "stream",
     "text": [
      "Sum with refs: 30\n",
      "Sum with options: 15\n"
     ]
    }
   ],
   "source": [
    "// # Idiomatic Rust Example: Sum of Two Numbers\n",
    "// # This example demonstrates several Rust patterns from the pattern list:\n",
    "// # - 1.2. Passing references instead of moving values\n",
    "// # - 2.9. Using Option for nullable values\n",
    "// # - 2.10. Fallback patterns with unwrap_or_else\n",
    "// # - 3.3. Default trait implementation\n",
    "// # - 7.7. Generic type parameters\n",
    "// # - 11.1. Unit test organization\n",
    "\n",
    "// First, let's define a generic function to add two numbers\n",
    "fn add<T: std::ops::Add<Output = T>>(a: T, b: T) -> T {\n",
    "    a + b\n",
    "}\n",
    "\n",
    "// Using references to avoid moving values (Pattern 1.2)\n",
    "fn add_refs<T: std::ops::Add<Output = T> + Copy>(a: &T, b: &T) -> T {\n",
    "    *a + *b\n",
    "}\n",
    "\n",
    "// Using Option for nullable values (Pattern 2.9)\n",
    "fn add_options<T: std::ops::Add<Output = T> + Copy + Default>(a: Option<T>, b: Option<T>) -> T {\n",
    "    // Fallback patterns with unwrap_or_else (Pattern 2.10)\n",
    "    let a_val = a.unwrap_or_else(T::default);\n",
    "    let b_val = b.unwrap_or_else(T::default);\n",
    "    \n",
    "    a_val + b_val\n",
    "}\n",
    "\n",
    "// Example usage:\n",
    "fn main() {\n",
    "    // Basic addition\n",
    "    let sum1 = add(5, 7);\n",
    "    println!(\"Sum: {}\", sum1);\n",
    "    \n",
    "    // Using references\n",
    "    let x = 10;\n",
    "    let y = 20;\n",
    "    let sum2 = add_refs(&x, &y);\n",
    "    println!(\"Sum with refs: {}\", sum2);\n",
    "    \n",
    "    // Using Options\n",
    "    let a = Some(15);\n",
    "    let b = None;\n",
    "    let sum3 = add_options(a, b);\n",
    "    println!(\"Sum with options: {}\", sum3);\n",
    "}\n",
    "\n",
    "// Unit tests (Pattern 11.1)\n",
    "#[cfg(test)]\n",
    "mod tests {\n",
    "    use super::*;\n",
    "    \n",
    "    #[test]\n",
    "    fn test_add() {\n",
    "        assert_eq!(add(2, 3), 5);\n",
    "        assert_eq!(add(-1, 1), 0);\n",
    "        assert_eq!(add(0.5, 1.5), 2.0);\n",
    "    }\n",
    "    \n",
    "    #[test]\n",
    "    fn test_add_refs() {\n",
    "        let a = 10;\n",
    "        let b = 20;\n",
    "        assert_eq!(add_refs(&a, &b), 30);\n",
    "    }\n",
    "    \n",
    "    #[test]\n",
    "    fn test_add_options() {\n",
    "        assert_eq!(add_options(Some(5), Some(10)), 15);\n",
    "        assert_eq!(add_options(Some(5), None), 5);\n",
    "        assert_eq!(add_options::<i32>(None, None), 0);\n",
    "    }\n",
    "}\n",
    "\n",
    "main();\n"
   ]
  }
 ],
 "metadata": {
  "kernelspec": {
   "display_name": "Rust",
   "language": "rust",
   "name": "rust"
  },
  "language_info": {
   "codemirror_mode": "rust",
   "file_extension": ".rs",
   "mimetype": "text/rust",
   "name": "Rust",
   "pygment_lexer": "rust",
   "version": ""
  }
 },
 "nbformat": 4,
 "nbformat_minor": 2
}
